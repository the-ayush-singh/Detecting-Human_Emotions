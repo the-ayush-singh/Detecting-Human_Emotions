{
 "cells": [
  {
   "cell_type": "code",
   "execution_count": 2,
   "metadata": {},
   "outputs": [],
   "source": [
    "#install boto3\n",
    "#web cam photo click \n",
    "#upload photo on s3\n",
    "#connect and req, res\n"
   ]
  },
  {
   "cell_type": "code",
   "execution_count": 3,
   "metadata": {},
   "outputs": [],
   "source": [
    "import cv2"
   ]
  },
  {
   "cell_type": "code",
   "execution_count": 4,
   "metadata": {},
   "outputs": [],
   "source": [
    "cap = cv2.VideoCapture(0)\n"
   ]
  },
  {
   "cell_type": "code",
   "execution_count": 5,
   "metadata": {},
   "outputs": [],
   "source": [
    "ret, photo = cap.read()"
   ]
  },
  {
   "cell_type": "code",
   "execution_count": 8,
   "metadata": {},
   "outputs": [
    {
     "data": {
      "text/plain": [
       "True"
      ]
     },
     "execution_count": 8,
     "metadata": {},
     "output_type": "execute_result"
    }
   ],
   "source": [
    "ret # to check photo captured or not\n",
    "cv2.imwrite(\"ayus.jpg\", photo)\n"
   ]
  },
  {
   "cell_type": "code",
   "execution_count": 12,
   "metadata": {},
   "outputs": [],
   "source": [
    "#cv2.imwrite(\"photu.jpg\", photo)\n",
    "cap.release()\n",
    "#cap.release to off camera\n",
    "photu = \"ayus.jpg\" #storing in a variable"
   ]
  },
  {
   "cell_type": "code",
   "execution_count": 13,
   "metadata": {},
   "outputs": [],
   "source": [
    "#s3\n",
    "region = \"ap-south-1\"\n",
    "bucket = \"ahoy-world\""
   ]
  },
  {
   "cell_type": "code",
   "execution_count": 15,
   "metadata": {},
   "outputs": [],
   "source": [
    "import boto3\n",
    "\n",
    "s3 = boto3.resource('s3') #configuring s3\n",
    "\n"
   ]
  },
  {
   "cell_type": "code",
   "execution_count": 17,
   "metadata": {},
   "outputs": [],
   "source": [
    "s3.Bucket(bucket).upload_file(photu, \"ayu.jpg\") #uploading and saving on s3\n"
   ]
  },
  {
   "cell_type": "code",
   "execution_count": 18,
   "metadata": {},
   "outputs": [],
   "source": [
    "rek = boto3.client('rekognition', region) #using client() to use special services\n"
   ]
  },
  {
   "cell_type": "code",
   "execution_count": 21,
   "metadata": {},
   "outputs": [],
   "source": [
    "res = rek.detect_faces(\n",
    "    Image={\n",
    "          \n",
    "          'S3Object': {\n",
    "              'Bucket': bucket,\n",
    "              'Name': 'ayu.jpg',\n",
    "              \n",
    "          }\n",
    "      },\n",
    "      Attributes=[\n",
    "          'ALL',\n",
    "      ])"
   ]
  },
  {
   "cell_type": "code",
   "execution_count": 22,
   "metadata": {},
   "outputs": [
    {
     "data": {
      "text/plain": [
       "{'FaceDetails': [{'BoundingBox': {'Width': 0.25837773084640503,\n",
       "    'Height': 0.607188880443573,\n",
       "    'Left': 0.38185247778892517,\n",
       "    'Top': 0.36049309372901917},\n",
       "   'AgeRange': {'Low': 22, 'High': 34},\n",
       "   'Smile': {'Value': False, 'Confidence': 96.34974670410156},\n",
       "   'Eyeglasses': {'Value': True, 'Confidence': 99.88677215576172},\n",
       "   'Sunglasses': {'Value': False, 'Confidence': 93.07998657226562},\n",
       "   'Gender': {'Value': 'Male', 'Confidence': 99.35923767089844},\n",
       "   'Beard': {'Value': True, 'Confidence': 71.69286346435547},\n",
       "   'Mustache': {'Value': False, 'Confidence': 84.6637191772461},\n",
       "   'EyesOpen': {'Value': True, 'Confidence': 99.91813659667969},\n",
       "   'MouthOpen': {'Value': False, 'Confidence': 91.44937133789062},\n",
       "   'Emotions': [{'Type': 'CALM', 'Confidence': 85.91816711425781},\n",
       "    {'Type': 'SURPRISED', 'Confidence': 5.044069290161133},\n",
       "    {'Type': 'CONFUSED', 'Confidence': 2.8230373859405518},\n",
       "    {'Type': 'ANGRY', 'Confidence': 1.468526005744934},\n",
       "    {'Type': 'FEAR', 'Confidence': 1.2978886365890503},\n",
       "    {'Type': 'DISGUSTED', 'Confidence': 1.2846825122833252},\n",
       "    {'Type': 'SAD', 'Confidence': 1.1613264083862305},\n",
       "    {'Type': 'HAPPY', 'Confidence': 1.0023027658462524}],\n",
       "   'Landmarks': [{'Type': 'eyeLeft',\n",
       "     'X': 0.44490543007850647,\n",
       "     'Y': 0.6038812398910522},\n",
       "    {'Type': 'eyeRight', 'X': 0.5565682053565979, 'Y': 0.5950870513916016},\n",
       "    {'Type': 'mouthLeft', 'X': 0.4569438397884369, 'Y': 0.8177577257156372},\n",
       "    {'Type': 'mouthRight', 'X': 0.5498464107513428, 'Y': 0.8106091022491455},\n",
       "    {'Type': 'nose', 'X': 0.4918912351131439, 'Y': 0.7014822363853455},\n",
       "    {'Type': 'leftEyeBrowLeft',\n",
       "     'X': 0.4059426784515381,\n",
       "     'Y': 0.5611712336540222},\n",
       "    {'Type': 'leftEyeBrowRight',\n",
       "     'X': 0.43275150656700134,\n",
       "     'Y': 0.5271276235580444},\n",
       "    {'Type': 'leftEyeBrowUp',\n",
       "     'X': 0.46347492933273315,\n",
       "     'Y': 0.5336225032806396},\n",
       "    {'Type': 'rightEyeBrowLeft',\n",
       "     'X': 0.5275317430496216,\n",
       "     'Y': 0.528373122215271},\n",
       "    {'Type': 'rightEyeBrowRight',\n",
       "     'X': 0.5617244243621826,\n",
       "     'Y': 0.5167725682258606},\n",
       "    {'Type': 'rightEyeBrowUp', 'X': 0.600174069404602, 'Y': 0.545839250087738},\n",
       "    {'Type': 'leftEyeLeft', 'X': 0.42622071504592896, 'Y': 0.6058394312858582},\n",
       "    {'Type': 'leftEyeRight',\n",
       "     'X': 0.46695297956466675,\n",
       "     'Y': 0.6039940118789673},\n",
       "    {'Type': 'leftEyeUp', 'X': 0.4437929093837738, 'Y': 0.5923296809196472},\n",
       "    {'Type': 'leftEyeDown', 'X': 0.44542497396469116, 'Y': 0.6130141615867615},\n",
       "    {'Type': 'rightEyeLeft', 'X': 0.5344051122665405, 'Y': 0.5986469984054565},\n",
       "    {'Type': 'rightEyeRight',\n",
       "     'X': 0.5775214433670044,\n",
       "     'Y': 0.5940636396408081},\n",
       "    {'Type': 'rightEyeUp', 'X': 0.5559322834014893, 'Y': 0.5834768414497375},\n",
       "    {'Type': 'rightEyeDown', 'X': 0.5559929609298706, 'Y': 0.604401707649231},\n",
       "    {'Type': 'noseLeft', 'X': 0.4775375723838806, 'Y': 0.7335637211799622},\n",
       "    {'Type': 'noseRight', 'X': 0.5188716053962708, 'Y': 0.730478823184967},\n",
       "    {'Type': 'mouthUp', 'X': 0.49806666374206543, 'Y': 0.7817838191986084},\n",
       "    {'Type': 'mouthDown', 'X': 0.5004822611808777, 'Y': 0.8478968143463135},\n",
       "    {'Type': 'leftPupil', 'X': 0.44490543007850647, 'Y': 0.6038812398910522},\n",
       "    {'Type': 'rightPupil', 'X': 0.5565682053565979, 'Y': 0.5950870513916016},\n",
       "    {'Type': 'upperJawlineLeft',\n",
       "     'X': 0.3940923511981964,\n",
       "     'Y': 0.6304329037666321},\n",
       "    {'Type': 'midJawlineLeft',\n",
       "     'X': 0.41885533928871155,\n",
       "     'Y': 0.8572991490364075},\n",
       "    {'Type': 'chinBottom', 'X': 0.506855309009552, 'Y': 0.9639009237289429},\n",
       "    {'Type': 'midJawlineRight',\n",
       "     'X': 0.6167787909507751,\n",
       "     'Y': 0.8425185084342957},\n",
       "    {'Type': 'upperJawlineRight',\n",
       "     'X': 0.637997567653656,\n",
       "     'Y': 0.6113208532333374}],\n",
       "   'Pose': {'Roll': -3.751466989517212,\n",
       "    'Yaw': -6.408168792724609,\n",
       "    'Pitch': 11.994953155517578},\n",
       "   'Quality': {'Brightness': 60.67003631591797,\n",
       "    'Sharpness': 83.14741516113281},\n",
       "   'Confidence': 99.99754333496094}],\n",
       " 'ResponseMetadata': {'RequestId': 'ce358850-3f5c-4550-86cc-93c94ccd44e5',\n",
       "  'HTTPStatusCode': 200,\n",
       "  'HTTPHeaders': {'content-type': 'application/x-amz-json-1.1',\n",
       "   'date': 'Sat, 03 Apr 2021 17:11:13 GMT',\n",
       "   'x-amzn-requestid': 'ce358850-3f5c-4550-86cc-93c94ccd44e5',\n",
       "   'content-length': '3332',\n",
       "   'connection': 'keep-alive'},\n",
       "  'RetryAttempts': 0}}"
      ]
     },
     "execution_count": 22,
     "metadata": {},
     "output_type": "execute_result"
    }
   ],
   "source": [
    "res"
   ]
  },
  {
   "cell_type": "code",
   "execution_count": 57,
   "metadata": {},
   "outputs": [
    {
     "data": {
      "text/plain": [
       "[{'Type': 'CALM', 'Confidence': 85.91816711425781},\n",
       " {'Type': 'SURPRISED', 'Confidence': 5.044069290161133},\n",
       " {'Type': 'CONFUSED', 'Confidence': 2.8230373859405518},\n",
       " {'Type': 'ANGRY', 'Confidence': 1.468526005744934},\n",
       " {'Type': 'FEAR', 'Confidence': 1.2978886365890503},\n",
       " {'Type': 'DISGUSTED', 'Confidence': 1.2846825122833252},\n",
       " {'Type': 'SAD', 'Confidence': 1.1613264083862305},\n",
       " {'Type': 'HAPPY', 'Confidence': 1.0023027658462524}]"
      ]
     },
     "execution_count": 57,
     "metadata": {},
     "output_type": "execute_result"
    }
   ],
   "source": [
    "res['FaceDetails'][0]['Emotions']\n"
   ]
  },
  {
   "cell_type": "code",
   "execution_count": null,
   "metadata": {},
   "outputs": [],
   "source": []
  }
 ],
 "metadata": {
  "kernelspec": {
   "display_name": "Python 3",
   "language": "python",
   "name": "python3"
  },
  "language_info": {
   "codemirror_mode": {
    "name": "ipython",
    "version": 3
   },
   "file_extension": ".py",
   "mimetype": "text/x-python",
   "name": "python",
   "nbconvert_exporter": "python",
   "pygments_lexer": "ipython3",
   "version": "3.8.3"
  }
 },
 "nbformat": 4,
 "nbformat_minor": 4
}
